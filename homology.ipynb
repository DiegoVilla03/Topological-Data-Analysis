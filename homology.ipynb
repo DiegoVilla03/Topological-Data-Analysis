{
 "cells": [
  {
   "cell_type": "code",
   "execution_count": 1,
   "id": "becc3e8c",
   "metadata": {},
   "outputs": [],
   "source": [
    "import TDA as tp\n",
    "import numpy as np\n",
    "import plotly.graph_objects as go"
   ]
  },
  {
   "cell_type": "code",
   "execution_count": 2,
   "id": "3e80fd61",
   "metadata": {},
   "outputs": [
    {
     "data": {
      "application/vnd.plotly.v1+json": {
       "config": {
        "plotlyServerURL": "https://plot.ly"
       },
       "data": [
        {
         "marker": {
          "color": {
           "bdata": "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",
           "dtype": "f8"
          },
          "colorscale": [
           [
            0,
            "#440154"
           ],
           [
            0.1111111111111111,
            "#482878"
           ],
           [
            0.2222222222222222,
            "#3e4989"
           ],
           [
            0.3333333333333333,
            "#31688e"
           ],
           [
            0.4444444444444444,
            "#26828e"
           ],
           [
            0.5555555555555556,
            "#1f9e89"
           ],
           [
            0.6666666666666666,
            "#35b779"
           ],
           [
            0.7777777777777778,
            "#6ece58"
           ],
           [
            0.8888888888888888,
            "#b5de2b"
           ],
           [
            1,
            "#fde725"
           ]
          ],
          "size": 2
         },
         "mode": "markers",
         "type": "scatter3d",
         "x": {
          "bdata": "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",
          "dtype": "f8"
         },
         "y": {
          "bdata": "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",
          "dtype": "f8"
         },
         "z": {
          "bdata": "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",
          "dtype": "f8"
         }
        }
       ],
       "layout": {
        "margin": {
         "b": 0,
         "l": 0,
         "r": 0,
         "t": 30
        },
        "scene": {
         "xaxis": {
          "title": {
           "text": "X"
          }
         },
         "yaxis": {
          "title": {
           "text": "Y"
          }
         },
         "zaxis": {
          "title": {
           "text": "Z"
          }
         }
        },
        "template": {
         "data": {
          "bar": [
           {
            "error_x": {
             "color": "#2a3f5f"
            },
            "error_y": {
             "color": "#2a3f5f"
            },
            "marker": {
             "line": {
              "color": "#E5ECF6",
              "width": 0.5
             },
             "pattern": {
              "fillmode": "overlay",
              "size": 10,
              "solidity": 0.2
             }
            },
            "type": "bar"
           }
          ],
          "barpolar": [
           {
            "marker": {
             "line": {
              "color": "#E5ECF6",
              "width": 0.5
             },
             "pattern": {
              "fillmode": "overlay",
              "size": 10,
              "solidity": 0.2
             }
            },
            "type": "barpolar"
           }
          ],
          "carpet": [
           {
            "aaxis": {
             "endlinecolor": "#2a3f5f",
             "gridcolor": "white",
             "linecolor": "white",
             "minorgridcolor": "white",
             "startlinecolor": "#2a3f5f"
            },
            "baxis": {
             "endlinecolor": "#2a3f5f",
             "gridcolor": "white",
             "linecolor": "white",
             "minorgridcolor": "white",
             "startlinecolor": "#2a3f5f"
            },
            "type": "carpet"
           }
          ],
          "choropleth": [
           {
            "colorbar": {
             "outlinewidth": 0,
             "ticks": ""
            },
            "type": "choropleth"
           }
          ],
          "contour": [
           {
            "colorbar": {
             "outlinewidth": 0,
             "ticks": ""
            },
            "colorscale": [
             [
              0,
              "#0d0887"
             ],
             [
              0.1111111111111111,
              "#46039f"
             ],
             [
              0.2222222222222222,
              "#7201a8"
             ],
             [
              0.3333333333333333,
              "#9c179e"
             ],
             [
              0.4444444444444444,
              "#bd3786"
             ],
             [
              0.5555555555555556,
              "#d8576b"
             ],
             [
              0.6666666666666666,
              "#ed7953"
             ],
             [
              0.7777777777777778,
              "#fb9f3a"
             ],
             [
              0.8888888888888888,
              "#fdca26"
             ],
             [
              1,
              "#f0f921"
             ]
            ],
            "type": "contour"
           }
          ],
          "contourcarpet": [
           {
            "colorbar": {
             "outlinewidth": 0,
             "ticks": ""
            },
            "type": "contourcarpet"
           }
          ],
          "heatmap": [
           {
            "colorbar": {
             "outlinewidth": 0,
             "ticks": ""
            },
            "colorscale": [
             [
              0,
              "#0d0887"
             ],
             [
              0.1111111111111111,
              "#46039f"
             ],
             [
              0.2222222222222222,
              "#7201a8"
             ],
             [
              0.3333333333333333,
              "#9c179e"
             ],
             [
              0.4444444444444444,
              "#bd3786"
             ],
             [
              0.5555555555555556,
              "#d8576b"
             ],
             [
              0.6666666666666666,
              "#ed7953"
             ],
             [
              0.7777777777777778,
              "#fb9f3a"
             ],
             [
              0.8888888888888888,
              "#fdca26"
             ],
             [
              1,
              "#f0f921"
             ]
            ],
            "type": "heatmap"
           }
          ],
          "histogram": [
           {
            "marker": {
             "pattern": {
              "fillmode": "overlay",
              "size": 10,
              "solidity": 0.2
             }
            },
            "type": "histogram"
           }
          ],
          "histogram2d": [
           {
            "colorbar": {
             "outlinewidth": 0,
             "ticks": ""
            },
            "colorscale": [
             [
              0,
              "#0d0887"
             ],
             [
              0.1111111111111111,
              "#46039f"
             ],
             [
              0.2222222222222222,
              "#7201a8"
             ],
             [
              0.3333333333333333,
              "#9c179e"
             ],
             [
              0.4444444444444444,
              "#bd3786"
             ],
             [
              0.5555555555555556,
              "#d8576b"
             ],
             [
              0.6666666666666666,
              "#ed7953"
             ],
             [
              0.7777777777777778,
              "#fb9f3a"
             ],
             [
              0.8888888888888888,
              "#fdca26"
             ],
             [
              1,
              "#f0f921"
             ]
            ],
            "type": "histogram2d"
           }
          ],
          "histogram2dcontour": [
           {
            "colorbar": {
             "outlinewidth": 0,
             "ticks": ""
            },
            "colorscale": [
             [
              0,
              "#0d0887"
             ],
             [
              0.1111111111111111,
              "#46039f"
             ],
             [
              0.2222222222222222,
              "#7201a8"
             ],
             [
              0.3333333333333333,
              "#9c179e"
             ],
             [
              0.4444444444444444,
              "#bd3786"
             ],
             [
              0.5555555555555556,
              "#d8576b"
             ],
             [
              0.6666666666666666,
              "#ed7953"
             ],
             [
              0.7777777777777778,
              "#fb9f3a"
             ],
             [
              0.8888888888888888,
              "#fdca26"
             ],
             [
              1,
              "#f0f921"
             ]
            ],
            "type": "histogram2dcontour"
           }
          ],
          "mesh3d": [
           {
            "colorbar": {
             "outlinewidth": 0,
             "ticks": ""
            },
            "type": "mesh3d"
           }
          ],
          "parcoords": [
           {
            "line": {
             "colorbar": {
              "outlinewidth": 0,
              "ticks": ""
             }
            },
            "type": "parcoords"
           }
          ],
          "pie": [
           {
            "automargin": true,
            "type": "pie"
           }
          ],
          "scatter": [
           {
            "fillpattern": {
             "fillmode": "overlay",
             "size": 10,
             "solidity": 0.2
            },
            "type": "scatter"
           }
          ],
          "scatter3d": [
           {
            "line": {
             "colorbar": {
              "outlinewidth": 0,
              "ticks": ""
             }
            },
            "marker": {
             "colorbar": {
              "outlinewidth": 0,
              "ticks": ""
             }
            },
            "type": "scatter3d"
           }
          ],
          "scattercarpet": [
           {
            "marker": {
             "colorbar": {
              "outlinewidth": 0,
              "ticks": ""
             }
            },
            "type": "scattercarpet"
           }
          ],
          "scattergeo": [
           {
            "marker": {
             "colorbar": {
              "outlinewidth": 0,
              "ticks": ""
             }
            },
            "type": "scattergeo"
           }
          ],
          "scattergl": [
           {
            "marker": {
             "colorbar": {
              "outlinewidth": 0,
              "ticks": ""
             }
            },
            "type": "scattergl"
           }
          ],
          "scattermap": [
           {
            "marker": {
             "colorbar": {
              "outlinewidth": 0,
              "ticks": ""
             }
            },
            "type": "scattermap"
           }
          ],
          "scattermapbox": [
           {
            "marker": {
             "colorbar": {
              "outlinewidth": 0,
              "ticks": ""
             }
            },
            "type": "scattermapbox"
           }
          ],
          "scatterpolar": [
           {
            "marker": {
             "colorbar": {
              "outlinewidth": 0,
              "ticks": ""
             }
            },
            "type": "scatterpolar"
           }
          ],
          "scatterpolargl": [
           {
            "marker": {
             "colorbar": {
              "outlinewidth": 0,
              "ticks": ""
             }
            },
            "type": "scatterpolargl"
           }
          ],
          "scatterternary": [
           {
            "marker": {
             "colorbar": {
              "outlinewidth": 0,
              "ticks": ""
             }
            },
            "type": "scatterternary"
           }
          ],
          "surface": [
           {
            "colorbar": {
             "outlinewidth": 0,
             "ticks": ""
            },
            "colorscale": [
             [
              0,
              "#0d0887"
             ],
             [
              0.1111111111111111,
              "#46039f"
             ],
             [
              0.2222222222222222,
              "#7201a8"
             ],
             [
              0.3333333333333333,
              "#9c179e"
             ],
             [
              0.4444444444444444,
              "#bd3786"
             ],
             [
              0.5555555555555556,
              "#d8576b"
             ],
             [
              0.6666666666666666,
              "#ed7953"
             ],
             [
              0.7777777777777778,
              "#fb9f3a"
             ],
             [
              0.8888888888888888,
              "#fdca26"
             ],
             [
              1,
              "#f0f921"
             ]
            ],
            "type": "surface"
           }
          ],
          "table": [
           {
            "cells": {
             "fill": {
              "color": "#EBF0F8"
             },
             "line": {
              "color": "white"
             }
            },
            "header": {
             "fill": {
              "color": "#C8D4E3"
             },
             "line": {
              "color": "white"
             }
            },
            "type": "table"
           }
          ]
         },
         "layout": {
          "annotationdefaults": {
           "arrowcolor": "#2a3f5f",
           "arrowhead": 0,
           "arrowwidth": 1
          },
          "autotypenumbers": "strict",
          "coloraxis": {
           "colorbar": {
            "outlinewidth": 0,
            "ticks": ""
           }
          },
          "colorscale": {
           "diverging": [
            [
             0,
             "#8e0152"
            ],
            [
             0.1,
             "#c51b7d"
            ],
            [
             0.2,
             "#de77ae"
            ],
            [
             0.3,
             "#f1b6da"
            ],
            [
             0.4,
             "#fde0ef"
            ],
            [
             0.5,
             "#f7f7f7"
            ],
            [
             0.6,
             "#e6f5d0"
            ],
            [
             0.7,
             "#b8e186"
            ],
            [
             0.8,
             "#7fbc41"
            ],
            [
             0.9,
             "#4d9221"
            ],
            [
             1,
             "#276419"
            ]
           ],
           "sequential": [
            [
             0,
             "#0d0887"
            ],
            [
             0.1111111111111111,
             "#46039f"
            ],
            [
             0.2222222222222222,
             "#7201a8"
            ],
            [
             0.3333333333333333,
             "#9c179e"
            ],
            [
             0.4444444444444444,
             "#bd3786"
            ],
            [
             0.5555555555555556,
             "#d8576b"
            ],
            [
             0.6666666666666666,
             "#ed7953"
            ],
            [
             0.7777777777777778,
             "#fb9f3a"
            ],
            [
             0.8888888888888888,
             "#fdca26"
            ],
            [
             1,
             "#f0f921"
            ]
           ],
           "sequentialminus": [
            [
             0,
             "#0d0887"
            ],
            [
             0.1111111111111111,
             "#46039f"
            ],
            [
             0.2222222222222222,
             "#7201a8"
            ],
            [
             0.3333333333333333,
             "#9c179e"
            ],
            [
             0.4444444444444444,
             "#bd3786"
            ],
            [
             0.5555555555555556,
             "#d8576b"
            ],
            [
             0.6666666666666666,
             "#ed7953"
            ],
            [
             0.7777777777777778,
             "#fb9f3a"
            ],
            [
             0.8888888888888888,
             "#fdca26"
            ],
            [
             1,
             "#f0f921"
            ]
           ]
          },
          "colorway": [
           "#636efa",
           "#EF553B",
           "#00cc96",
           "#ab63fa",
           "#FFA15A",
           "#19d3f3",
           "#FF6692",
           "#B6E880",
           "#FF97FF",
           "#FECB52"
          ],
          "font": {
           "color": "#2a3f5f"
          },
          "geo": {
           "bgcolor": "white",
           "lakecolor": "white",
           "landcolor": "#E5ECF6",
           "showlakes": true,
           "showland": true,
           "subunitcolor": "white"
          },
          "hoverlabel": {
           "align": "left"
          },
          "hovermode": "closest",
          "mapbox": {
           "style": "light"
          },
          "paper_bgcolor": "white",
          "plot_bgcolor": "#E5ECF6",
          "polar": {
           "angularaxis": {
            "gridcolor": "white",
            "linecolor": "white",
            "ticks": ""
           },
           "bgcolor": "#E5ECF6",
           "radialaxis": {
            "gridcolor": "white",
            "linecolor": "white",
            "ticks": ""
           }
          },
          "scene": {
           "xaxis": {
            "backgroundcolor": "#E5ECF6",
            "gridcolor": "white",
            "gridwidth": 2,
            "linecolor": "white",
            "showbackground": true,
            "ticks": "",
            "zerolinecolor": "white"
           },
           "yaxis": {
            "backgroundcolor": "#E5ECF6",
            "gridcolor": "white",
            "gridwidth": 2,
            "linecolor": "white",
            "showbackground": true,
            "ticks": "",
            "zerolinecolor": "white"
           },
           "zaxis": {
            "backgroundcolor": "#E5ECF6",
            "gridcolor": "white",
            "gridwidth": 2,
            "linecolor": "white",
            "showbackground": true,
            "ticks": "",
            "zerolinecolor": "white"
           }
          },
          "shapedefaults": {
           "line": {
            "color": "#2a3f5f"
           }
          },
          "ternary": {
           "aaxis": {
            "gridcolor": "white",
            "linecolor": "white",
            "ticks": ""
           },
           "baxis": {
            "gridcolor": "white",
            "linecolor": "white",
            "ticks": ""
           },
           "bgcolor": "#E5ECF6",
           "caxis": {
            "gridcolor": "white",
            "linecolor": "white",
            "ticks": ""
           }
          },
          "title": {
           "x": 0.05
          },
          "xaxis": {
           "automargin": true,
           "gridcolor": "white",
           "linecolor": "white",
           "ticks": "",
           "title": {
            "standoff": 15
           },
           "zerolinecolor": "white",
           "zerolinewidth": 2
          },
          "yaxis": {
           "automargin": true,
           "gridcolor": "white",
           "linecolor": "white",
           "ticks": "",
           "title": {
            "standoff": 15
           },
           "zerolinecolor": "white",
           "zerolinewidth": 2
          }
         }
        },
        "title": {
         "text": "Random Points"
        }
       }
      }
     },
     "metadata": {},
     "output_type": "display_data"
    }
   ],
   "source": [
    "torus = tp.geometry.from_torus(R=1, r = 0.5, n=300)\n",
    "torus.plot()"
   ]
  },
  {
   "cell_type": "code",
   "execution_count": 3,
   "id": "e54c956e",
   "metadata": {},
   "outputs": [
    {
     "data": {
      "image/png": "[encoded data removed]",
      "text/plain": [
       "<Figure size 640x480 with 1 Axes>"
      ]
     },
     "metadata": {},
     "output_type": "display_data"
    }
   ],
   "source": [
    "X = torus.get()\n",
    "\n",
    "analyzer = tp.HomologyAnalyzer()\n",
    "diagrams = analyzer.compute(X)\n",
    "analyzer.plot()            \n"
   ]
  },
  {
   "cell_type": "code",
   "execution_count": 4,
   "id": "5b9b649d",
   "metadata": {},
   "outputs": [],
   "source": [
    "x_nonperiodic = np.linspace(0, 50, 1000)\n",
    "serie = np.cos(x_nonperiodic) + np.cos(np.pi * x_nonperiodic)\n",
    "\n",
    "\n",
    "\n",
    "embed = tp.TimeEmbedding(dimension=3, time_delay=20, stride=12)\n",
    "points = embed.fit_transform(serie)\n"
   ]
  },
  {
   "cell_type": "code",
   "execution_count": 5,
   "id": "92f50f89",
   "metadata": {},
   "outputs": [
    {
     "data": {
      "application/vnd.plotly.v1+json": {
       "config": {
        "plotlyServerURL": "https://plot.ly"
       },
       "data": [
        {
         "type": "scatter",
         "x": {
          "bdata": "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",
          "dtype": "f8"
         },
         "y": {
          "bdata": "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",
          "dtype": "f8"
         }
        }
       ],
       "layout": {
        "template": {
         "data": {
          "bar": [
           {
            "error_x": {
             "color": "#2a3f5f"
            },
            "error_y": {
             "color": "#2a3f5f"
            },
            "marker": {
             "line": {
              "color": "#E5ECF6",
              "width": 0.5
             },
             "pattern": {
              "fillmode": "overlay",
              "size": 10,
              "solidity": 0.2
             }
            },
            "type": "bar"
           }
          ],
          "barpolar": [
           {
            "marker": {
             "line": {
              "color": "#E5ECF6",
              "width": 0.5
             },
             "pattern": {
              "fillmode": "overlay",
              "size": 10,
              "solidity": 0.2
             }
            },
            "type": "barpolar"
           }
          ],
          "carpet": [
           {
            "aaxis": {
             "endlinecolor": "#2a3f5f",
             "gridcolor": "white",
             "linecolor": "white",
             "minorgridcolor": "white",
             "startlinecolor": "#2a3f5f"
            },
            "baxis": {
             "endlinecolor": "#2a3f5f",
             "gridcolor": "white",
             "linecolor": "white",
             "minorgridcolor": "white",
             "startlinecolor": "#2a3f5f"
            },
            "type": "carpet"
           }
          ],
          "choropleth": [
           {
            "colorbar": {
             "outlinewidth": 0,
             "ticks": ""
            },
            "type": "choropleth"
           }
          ],
          "contour": [
           {
            "colorbar": {
             "outlinewidth": 0,
             "ticks": ""
            },
            "colorscale": [
             [
              0,
              "#0d0887"
             ],
             [
              0.1111111111111111,
              "#46039f"
             ],
             [
              0.2222222222222222,
              "#7201a8"
             ],
             [
              0.3333333333333333,
              "#9c179e"
             ],
             [
              0.4444444444444444,
              "#bd3786"
             ],
             [
              0.5555555555555556,
              "#d8576b"
             ],
             [
              0.6666666666666666,
              "#ed7953"
             ],
             [
              0.7777777777777778,
              "#fb9f3a"
             ],
             [
              0.8888888888888888,
              "#fdca26"
             ],
             [
              1,
              "#f0f921"
             ]
            ],
            "type": "contour"
           }
          ],
          "contourcarpet": [
           {
            "colorbar": {
             "outlinewidth": 0,
             "ticks": ""
            },
            "type": "contourcarpet"
           }
          ],
          "heatmap": [
           {
            "colorbar": {
             "outlinewidth": 0,
             "ticks": ""
            },
            "colorscale": [
             [
              0,
              "#0d0887"
             ],
             [
              0.1111111111111111,
              "#46039f"
             ],
             [
              0.2222222222222222,
              "#7201a8"
             ],
             [
              0.3333333333333333,
              "#9c179e"
             ],
             [
              0.4444444444444444,
              "#bd3786"
             ],
             [
              0.5555555555555556,
              "#d8576b"
             ],
             [
              0.6666666666666666,
              "#ed7953"
             ],
             [
              0.7777777777777778,
              "#fb9f3a"
             ],
             [
              0.8888888888888888,
              "#fdca26"
             ],
             [
              1,
              "#f0f921"
             ]
            ],
            "type": "heatmap"
           }
          ],
          "histogram": [
           {
            "marker": {
             "pattern": {
              "fillmode": "overlay",
              "size": 10,
              "solidity": 0.2
             }
            },
            "type": "histogram"
           }
          ],
          "histogram2d": [
           {
            "colorbar": {
             "outlinewidth": 0,
             "ticks": ""
            },
            "colorscale": [
             [
              0,
              "#0d0887"
             ],
             [
              0.1111111111111111,
              "#46039f"
             ],
             [
              0.2222222222222222,
              "#7201a8"
             ],
             [
              0.3333333333333333,
              "#9c179e"
             ],
             [
              0.4444444444444444,
              "#bd3786"
             ],
             [
              0.5555555555555556,
              "#d8576b"
             ],
             [
              0.6666666666666666,
              "#ed7953"
             ],
             [
              0.7777777777777778,
              "#fb9f3a"
             ],
             [
              0.8888888888888888,
              "#fdca26"
             ],
             [
              1,
              "#f0f921"
             ]
            ],
            "type": "histogram2d"
           }
          ],
          "histogram2dcontour": [
           {
            "colorbar": {
             "outlinewidth": 0,
             "ticks": ""
            },
            "colorscale": [
             [
              0,
              "#0d0887"
             ],
             [
              0.1111111111111111,
              "#46039f"
             ],
             [
              0.2222222222222222,
              "#7201a8"
             ],
             [
              0.3333333333333333,
              "#9c179e"
             ],
             [
              0.4444444444444444,
              "#bd3786"
             ],
             [
              0.5555555555555556,
              "#d8576b"
             ],
             [
              0.6666666666666666,
              "#ed7953"
             ],
             [
              0.7777777777777778,
              "#fb9f3a"
             ],
             [
              0.8888888888888888,
              "#fdca26"
             ],
             [
              1,
              "#f0f921"
             ]
            ],
            "type": "histogram2dcontour"
           }
          ],
          "mesh3d": [
           {
            "colorbar": {
             "outlinewidth": 0,
             "ticks": ""
            },
            "type": "mesh3d"
           }
          ],
          "parcoords": [
           {
            "line": {
             "colorbar": {
              "outlinewidth": 0,
              "ticks": ""
             }
            },
            "type": "parcoords"
           }
          ],
          "pie": [
           {
            "automargin": true,
            "type": "pie"
           }
          ],
          "scatter": [
           {
            "fillpattern": {
             "fillmode": "overlay",
             "size": 10,
             "solidity": 0.2
            },
            "type": "scatter"
           }
          ],
          "scatter3d": [
           {
            "line": {
             "colorbar": {
              "outlinewidth": 0,
              "ticks": ""
             }
            },
            "marker": {
             "colorbar": {
              "outlinewidth": 0,
              "ticks": ""
             }
            },
            "type": "scatter3d"
           }
          ],
          "scattercarpet": [
           {
            "marker": {
             "colorbar": {
              "outlinewidth": 0,
              "ticks": ""
             }
            },
            "type": "scattercarpet"
           }
          ],
          "scattergeo": [
           {
            "marker": {
             "colorbar": {
              "outlinewidth": 0,
              "ticks": ""
             }
            },
            "type": "scattergeo"
           }
          ],
          "scattergl": [
           {
            "marker": {
             "colorbar": {
              "outlinewidth": 0,
              "ticks": ""
             }
            },
            "type": "scattergl"
           }
          ],
          "scattermap": [
           {
            "marker": {
             "colorbar": {
              "outlinewidth": 0,
              "ticks": ""
             }
            },
            "type": "scattermap"
           }
          ],
          "scattermapbox": [
           {
            "marker": {
             "colorbar": {
              "outlinewidth": 0,
              "ticks": ""
             }
            },
            "type": "scattermapbox"
           }
          ],
          "scatterpolar": [
           {
            "marker": {
             "colorbar": {
              "outlinewidth": 0,
              "ticks": ""
             }
            },
            "type": "scatterpolar"
           }
          ],
          "scatterpolargl": [
           {
            "marker": {
             "colorbar": {
              "outlinewidth": 0,
              "ticks": ""
             }
            },
            "type": "scatterpolargl"
           }
          ],
          "scatterternary": [
           {
            "marker": {
             "colorbar": {
              "outlinewidth": 0,
              "ticks": ""
             }
            },
            "type": "scatterternary"
           }
          ],
          "surface": [
           {
            "colorbar": {
             "outlinewidth": 0,
             "ticks": ""
            },
            "colorscale": [
             [
              0,
              "#0d0887"
             ],
             [
              0.1111111111111111,
              "#46039f"
             ],
             [
              0.2222222222222222,
              "#7201a8"
             ],
             [
              0.3333333333333333,
              "#9c179e"
             ],
             [
              0.4444444444444444,
              "#bd3786"
             ],
             [
              0.5555555555555556,
              "#d8576b"
             ],
             [
              0.6666666666666666,
              "#ed7953"
             ],
             [
              0.7777777777777778,
              "#fb9f3a"
             ],
             [
              0.8888888888888888,
              "#fdca26"
             ],
             [
              1,
              "#f0f921"
             ]
            ],
            "type": "surface"
           }
          ],
          "table": [
           {
            "cells": {
             "fill": {
              "color": "#EBF0F8"
             },
             "line": {
              "color": "white"
             }
            },
            "header": {
             "fill": {
              "color": "#C8D4E3"
             },
             "line": {
              "color": "white"
             }
            },
            "type": "table"
           }
          ]
         },
         "layout": {
          "annotationdefaults": {
           "arrowcolor": "#2a3f5f",
           "arrowhead": 0,
           "arrowwidth": 1
          },
          "autotypenumbers": "strict",
          "coloraxis": {
           "colorbar": {
            "outlinewidth": 0,
            "ticks": ""
           }
          },
          "colorscale": {
           "diverging": [
            [
             0,
             "#8e0152"
            ],
            [
             0.1,
             "#c51b7d"
            ],
            [
             0.2,
             "#de77ae"
            ],
            [
             0.3,
             "#f1b6da"
            ],
            [
             0.4,
             "#fde0ef"
            ],
            [
             0.5,
             "#f7f7f7"
            ],
            [
             0.6,
             "#e6f5d0"
            ],
            [
             0.7,
             "#b8e186"
            ],
            [
             0.8,
             "#7fbc41"
            ],
            [
             0.9,
             "#4d9221"
            ],
            [
             1,
             "#276419"
            ]
           ],
           "sequential": [
            [
             0,
             "#0d0887"
            ],
            [
             0.1111111111111111,
             "#46039f"
            ],
            [
             0.2222222222222222,
             "#7201a8"
            ],
            [
             0.3333333333333333,
             "#9c179e"
            ],
            [
             0.4444444444444444,
             "#bd3786"
            ],
            [
             0.5555555555555556,
             "#d8576b"
            ],
            [
             0.6666666666666666,
             "#ed7953"
            ],
            [
             0.7777777777777778,
             "#fb9f3a"
            ],
            [
             0.8888888888888888,
             "#fdca26"
            ],
            [
             1,
             "#f0f921"
            ]
           ],
           "sequentialminus": [
            [
             0,
             "#0d0887"
            ],
            [
             0.1111111111111111,
             "#46039f"
            ],
            [
             0.2222222222222222,
             "#7201a8"
            ],
            [
             0.3333333333333333,
             "#9c179e"
            ],
            [
             0.4444444444444444,
             "#bd3786"
            ],
            [
             0.5555555555555556,
             "#d8576b"
            ],
            [
             0.6666666666666666,
             "#ed7953"
            ],
            [
             0.7777777777777778,
             "#fb9f3a"
            ],
            [
             0.8888888888888888,
             "#fdca26"
            ],
            [
             1,
             "#f0f921"
            ]
           ]
          },
          "colorway": [
           "#636efa",
           "#EF553B",
           "#00cc96",
           "#ab63fa",
           "#FFA15A",
           "#19d3f3",
           "#FF6692",
           "#B6E880",
           "#FF97FF",
           "#FECB52"
          ],
          "font": {
           "color": "#2a3f5f"
          },
          "geo": {
           "bgcolor": "white",
           "lakecolor": "white",
           "landcolor": "#E5ECF6",
           "showlakes": true,
           "showland": true,
           "subunitcolor": "white"
          },
          "hoverlabel": {
           "align": "left"
          },
          "hovermode": "closest",
          "mapbox": {
           "style": "light"
          },
          "paper_bgcolor": "white",
          "plot_bgcolor": "#E5ECF6",
          "polar": {
           "angularaxis": {
            "gridcolor": "white",
            "linecolor": "white",
            "ticks": ""
           },
           "bgcolor": "#E5ECF6",
           "radialaxis": {
            "gridcolor": "white",
            "linecolor": "white",
            "ticks": ""
           }
          },
          "scene": {
           "xaxis": {
            "backgroundcolor": "#E5ECF6",
            "gridcolor": "white",
            "gridwidth": 2,
            "linecolor": "white",
            "showbackground": true,
            "ticks": "",
            "zerolinecolor": "white"
           },
           "yaxis": {
            "backgroundcolor": "#E5ECF6",
            "gridcolor": "white",
            "gridwidth": 2,
            "linecolor": "white",
            "showbackground": true,
            "ticks": "",
            "zerolinecolor": "white"
           },
           "zaxis": {
            "backgroundcolor": "#E5ECF6",
            "gridcolor": "white",
            "gridwidth": 2,
            "linecolor": "white",
            "showbackground": true,
            "ticks": "",
            "zerolinecolor": "white"
           }
          },
          "shapedefaults": {
           "line": {
            "color": "#2a3f5f"
           }
          },
          "ternary": {
           "aaxis": {
            "gridcolor": "white",
            "linecolor": "white",
            "ticks": ""
           },
           "baxis": {
            "gridcolor": "white",
            "linecolor": "white",
            "ticks": ""
           },
           "bgcolor": "#E5ECF6",
           "caxis": {
            "gridcolor": "white",
            "linecolor": "white",
            "ticks": ""
           }
          },
          "title": {
           "x": 0.05
          },
          "xaxis": {
           "automargin": true,
           "gridcolor": "white",
           "linecolor": "white",
           "ticks": "",
           "title": {
            "standoff": 15
           },
           "zerolinecolor": "white",
           "zerolinewidth": 2
          },
          "yaxis": {
           "automargin": true,
           "gridcolor": "white",
           "linecolor": "white",
           "ticks": "",
           "title": {
            "standoff": 15
           },
           "zerolinecolor": "white",
           "zerolinewidth": 2
          }
         }
        },
        "xaxis": {
         "title": {
          "text": "Timestamp"
         }
        },
        "yaxis": {
         "title": {
          "text": "Amplitude"
         }
        }
       }
      }
     },
     "metadata": {},
     "output_type": "display_data"
    }
   ],
   "source": [
    "fig = go.Figure(data=go.Scatter(x=x_nonperiodic, y=serie))\n",
    "fig.update_layout(xaxis_title=\"Timestamp\", yaxis_title=\"Amplitude\")\n",
    "fig.show()\n"
   ]
  },
  {
   "cell_type": "code",
   "execution_count": 6,
   "id": "f4c14dd3",
   "metadata": {},
   "outputs": [
    {
     "data": {
      "application/vnd.plotly.v1+json": {
       "config": {
        "plotlyServerURL": "https://plot.ly"
       },
       "data": [
        {
         "marker": {
          "color": {
           "bdata": "xVsdatuf4j84amqC18zyvwzQmSiR0fy/wF9JGj4BnD/AJ84fkPF9v5VCeGvww+a/H8XnVUyt8T8oVW4VCbb8P/APh5yZ16Y/+O7jiNGRwj+CBUZamxTrP6chiN5wUPC/eYUKQuZL/L8AT3JiWJy5vy9okLnFktG/1T60g6V877+a/tXeT3vtP6QeIxG/lPs/NNnXjn2iwT9vypUlgS/ZP5BmTPQw8/E/gtdoALn66b8KQ/+SopP6v7h/0FHZF8S/w/z49ZL8378evUfTCx70v2LJ46uwMeY/7zLwgwlN+T+UaP/O7R7EP+J+Tjq47eI/GQjETTY09j9EHnvMLDTiv6aWUFvAxve/rDZPJWS0wb8+PzkTEVnlvxydIRxnK/i/pmQtUkcu3D/u/8HWygf2P6hWR2rhwbk/8qgnmuE15z/G1JM/6/n5PyPt5uhJ4NO/ao5ajUEY9L8wvE/doeSmv1STQfZzfOi/tRrRn9WW+7/cuYawv1PHP8YdwjMqAfI/ILP41h8Xnb/XCPmy9CfpPyV5R90q+vw/gEBq4oiwrb+8fJyolpjvv/CdWX6LEL4/7WmyaIo26b/mwbWACB3+v8DG3ecgi66/QgH9qPgH6z8QcJZcAkLMv42oYsheqeg/MLPKx8b5/j/gle/esInFP9Jrw2blZea/xGIo4wuJ1T+W/bvdmITnvy8R3WgUjP+/Q0ZP+33/0L8CUB/0GsjhPy/Ea1lWmd2/ZPUYpEjP5T/a1G/FC9H/P7dT+yEVYNY/bJD5gH+I2r88U0fc2RXjP1p+YlJEk+O/KNhyI0HH/79QuajOj8nav4msjKvw3tE/JAU1KrmL579mmU4I+NzgPw==",
           "dtype": "f8"
          },
          "colorscale": [
           [
            0,
            "#440154"
           ],
           [
            0.1111111111111111,
            "#482878"
           ],
           [
            0.2222222222222222,
            "#3e4989"
           ],
           [
            0.3333333333333333,
            "#31688e"
           ],
           [
            0.4444444444444444,
            "#26828e"
           ],
           [
            0.5555555555555556,
            "#1f9e89"
           ],
           [
            0.6666666666666666,
            "#35b779"
           ],
           [
            0.7777777777777778,
            "#6ece58"
           ],
           [
            0.8888888888888888,
            "#b5de2b"
           ],
           [
            1,
            "#fde725"
           ]
          ],
          "size": 6
         },
         "mode": "markers",
         "type": "scatter3d",
         "x": {
          "bdata": "AAAAAAAAAEDGfQTzNHTgPznn1vD5g9y/8tOumAGr4j9+YFq+0vrbv5r4jGWL2P+/8iTcr6Bp4r8uorVrQiLUP+A3wkBmN+e/NViGOHwl1j+KH5Fj7mL/P3b8hqeo0uM/7HhVU4KwyL94eHOMsdHrP4Q+4fO0D8+/faaqr2eh/r+UTThB+6bkv3AgVNiwKbU/owXldxEy8L8CP80HdorAP06FcuKol/0/vG0qGCLh5D9A7Hh7+syMPxaCeL2ObPI/4NOQleqCgL+4sYNVxEr8v+xaqNScfuS/oG+KqKN2uL/f2bD3yI30v36htSagSr6/id/TPRTB+j/oZq177X/jPyR4+5Unh8Q/ZjDEDrOL9j/I0ULK6KjPP3wBl3wbAvm/o/Sq+JXo4b/AMJ0zUYvKv/yFucfrXPi/x0gD4OkV2L+F1MO/YBb3P4r/E9sNft8/FFGRSgsuzj+01RXO6/j5P/FS60HSFeA/QUo9p0QH9b8J4ZA6ABnav9i0nzJNYc+/tlXdjy9Y+79glFSqivXjvyCSGbzT3vI/qvV8GMa50z9QhJbMDSPOP+Bsah5cdPw/KrV1p6mV5z9UtwMclafwvxChLNPi+ci/OIcPak19yr+a6g9fXkj9v8Su5yby4uq/MTnHla3Y7D/YC6Z0Ww2yP+SqtZ3khcQ/N8lo8oPQ/T+5Qvb/vMvtP9YhBFHxb+i/xBwt/Ew6sD8YWQPLMby4vw8sFFiNCv6/wECj0icg8L/+YBYdbirkPxdnU93PIsq/YPTY7smPkT9W2tD1uPX9P7fJHLKUGfE/uer+Oewc4L+aBczblFvWP0i5NID0kLM/hjPVy8aS/b9inmnboszxvw==",
          "dtype": "f8"
         },
         "y": {
          "bdata": "1vvKMGl53b++PG+LoxzSPzjG67yuecs/Mk9YOvod/L8QLJVIbjz0v8RUTc8jW9Y/NDqviVOK27/7AUXzReDUvyymMQQrU/s/6SmBCAaE9D9iFAuN0gfQv55SKUjfauI/3fPhAi+X3D+8mJ50S0L6v3aO8lCPffS/NHzUpes8xT+4l2+0Burmvxpcsln1XOK/kjpakgLx+D/h/P/jdCj0P3geypIp5ri/9suwhfAt6z8W3uoYXY/mP0jVeSAyZve/oMNKEaOF878QXMDNOnSnP4h4l9MOI++/FkX4VUrN6r/+jEHT1Kn1P+s+CzKDl/I/QAwGqJeuib+osQ+kqlvxP3BnBE/9AO8/Mb/RIdfE87+AGI7W72HxvwAG8hMkY1+/MuC62Ejt8r/sl+/Zcorxv6SIBXXrwPE/4MxXvkPU7z8AI3Q/4CxmvyycH75dP/Q/2vm/QwZ68z8lJToVtVDvv84rDbstbey/oOCgf/3vmj9yhQxIHEz1v6N6cog9RfW/KRHh7KEL6z9aAqV34p3oP7Abo5eYg7G/TkAkHgsP9j/AYvtwzuL2P16/HnNVyOa/yO8DjaV35L8oQCvBF2nAPwGtko4ahfa/hGOaiU1K+L9A4yrhe5ziP/sJd6BkDeA/3G8NebUtyr/tn2CRs6z2P+wZJXpXdPk/mQ/Ze5Y63b9EazcAtebWv3RzzaGE79I/ybqykr+F9r+X4M1NtVr6v0JdwnE2vtU/Z8oQb6/6yj/waSL/eqHZv1pttd2oEfY/yctL+Hr4+j+86l8iBdTNv9U3ug38J7C/opWCuL6F4D9YUimmU1P1v9jDj4IfSvu/FE9W3MvBwT8mrJEaXx+1vw==",
          "dtype": "f8"
         },
         "z": {
          "bdata": "xVsdatuf4j84amqC18zyvwzQmSiR0fy/wF9JGj4BnD/AJ84fkPF9v5VCeGvww+a/H8XnVUyt8T8oVW4VCbb8P/APh5yZ16Y/+O7jiNGRwj+CBUZamxTrP6chiN5wUPC/eYUKQuZL/L8AT3JiWJy5vy9okLnFktG/1T60g6V877+a/tXeT3vtP6QeIxG/lPs/NNnXjn2iwT9vypUlgS/ZP5BmTPQw8/E/gtdoALn66b8KQ/+SopP6v7h/0FHZF8S/w/z49ZL8378evUfTCx70v2LJ46uwMeY/7zLwgwlN+T+UaP/O7R7EP+J+Tjq47eI/GQjETTY09j9EHnvMLDTiv6aWUFvAxve/rDZPJWS0wb8+PzkTEVnlvxydIRxnK/i/pmQtUkcu3D/u/8HWygf2P6hWR2rhwbk/8qgnmuE15z/G1JM/6/n5PyPt5uhJ4NO/ao5ajUEY9L8wvE/doeSmv1STQfZzfOi/tRrRn9WW+7/cuYawv1PHP8YdwjMqAfI/ILP41h8Xnb/XCPmy9CfpPyV5R90q+vw/gEBq4oiwrb+8fJyolpjvv/CdWX6LEL4/7WmyaIo26b/mwbWACB3+v8DG3ecgi66/QgH9qPgH6z8QcJZcAkLMv42oYsheqeg/MLPKx8b5/j/gle/esInFP9Jrw2blZea/xGIo4wuJ1T+W/bvdmITnvy8R3WgUjP+/Q0ZP+33/0L8CUB/0GsjhPy/Ea1lWmd2/ZPUYpEjP5T/a1G/FC9H/P7dT+yEVYNY/bJD5gH+I2r88U0fc2RXjP1p+YlJEk+O/KNhyI0HH/79QuajOj8nav4msjKvw3tE/JAU1KrmL579mmU4I+NzgPw==",
          "dtype": "f8"
         }
        }
       ],
       "layout": {
        "margin": {
         "b": 0,
         "l": 0,
         "r": 0,
         "t": 30
        },
        "scene": {
         "xaxis": {
          "title": {
           "text": "X"
          }
         },
         "yaxis": {
          "title": {
           "text": "Y"
          }
         },
         "zaxis": {
          "title": {
           "text": "Z"
          }
         }
        },
        "template": {
         "data": {
          "bar": [
           {
            "error_x": {
             "color": "#2a3f5f"
            },
            "error_y": {
             "color": "#2a3f5f"
            },
            "marker": {
             "line": {
              "color": "#E5ECF6",
              "width": 0.5
             },
             "pattern": {
              "fillmode": "overlay",
              "size": 10,
              "solidity": 0.2
             }
            },
            "type": "bar"
           }
          ],
          "barpolar": [
           {
            "marker": {
             "line": {
              "color": "#E5ECF6",
              "width": 0.5
             },
             "pattern": {
              "fillmode": "overlay",
              "size": 10,
              "solidity": 0.2
             }
            },
            "type": "barpolar"
           }
          ],
          "carpet": [
           {
            "aaxis": {
             "endlinecolor": "#2a3f5f",
             "gridcolor": "white",
             "linecolor": "white",
             "minorgridcolor": "white",
             "startlinecolor": "#2a3f5f"
            },
            "baxis": {
             "endlinecolor": "#2a3f5f",
             "gridcolor": "white",
             "linecolor": "white",
             "minorgridcolor": "white",
             "startlinecolor": "#2a3f5f"
            },
            "type": "carpet"
           }
          ],
          "choropleth": [
           {
            "colorbar": {
             "outlinewidth": 0,
             "ticks": ""
            },
            "type": "choropleth"
           }
          ],
          "contour": [
           {
            "colorbar": {
             "outlinewidth": 0,
             "ticks": ""
            },
            "colorscale": [
             [
              0,
              "#0d0887"
             ],
             [
              0.1111111111111111,
              "#46039f"
             ],
             [
              0.2222222222222222,
              "#7201a8"
             ],
             [
              0.3333333333333333,
              "#9c179e"
             ],
             [
              0.4444444444444444,
              "#bd3786"
             ],
             [
              0.5555555555555556,
              "#d8576b"
             ],
             [
              0.6666666666666666,
              "#ed7953"
             ],
             [
              0.7777777777777778,
              "#fb9f3a"
             ],
             [
              0.8888888888888888,
              "#fdca26"
             ],
             [
              1,
              "#f0f921"
             ]
            ],
            "type": "contour"
           }
          ],
          "contourcarpet": [
           {
            "colorbar": {
             "outlinewidth": 0,
             "ticks": ""
            },
            "type": "contourcarpet"
           }
          ],
          "heatmap": [
           {
            "colorbar": {
             "outlinewidth": 0,
             "ticks": ""
            },
            "colorscale": [
             [
              0,
              "#0d0887"
             ],
             [
              0.1111111111111111,
              "#46039f"
             ],
             [
              0.2222222222222222,
              "#7201a8"
             ],
             [
              0.3333333333333333,
              "#9c179e"
             ],
             [
              0.4444444444444444,
              "#bd3786"
             ],
             [
              0.5555555555555556,
              "#d8576b"
             ],
             [
              0.6666666666666666,
              "#ed7953"
             ],
             [
              0.7777777777777778,
              "#fb9f3a"
             ],
             [
              0.8888888888888888,
              "#fdca26"
             ],
             [
              1,
              "#f0f921"
             ]
            ],
            "type": "heatmap"
           }
          ],
          "histogram": [
           {
            "marker": {
             "pattern": {
              "fillmode": "overlay",
              "size": 10,
              "solidity": 0.2
             }
            },
            "type": "histogram"
           }
          ],
          "histogram2d": [
           {
            "colorbar": {
             "outlinewidth": 0,
             "ticks": ""
            },
            "colorscale": [
             [
              0,
              "#0d0887"
             ],
             [
              0.1111111111111111,
              "#46039f"
             ],
             [
              0.2222222222222222,
              "#7201a8"
             ],
             [
              0.3333333333333333,
              "#9c179e"
             ],
             [
              0.4444444444444444,
              "#bd3786"
             ],
             [
              0.5555555555555556,
              "#d8576b"
             ],
             [
              0.6666666666666666,
              "#ed7953"
             ],
             [
              0.7777777777777778,
              "#fb9f3a"
             ],
             [
              0.8888888888888888,
              "#fdca26"
             ],
             [
              1,
              "#f0f921"
             ]
            ],
            "type": "histogram2d"
           }
          ],
          "histogram2dcontour": [
           {
            "colorbar": {
             "outlinewidth": 0,
             "ticks": ""
            },
            "colorscale": [
             [
              0,
              "#0d0887"
             ],
             [
              0.1111111111111111,
              "#46039f"
             ],
             [
              0.2222222222222222,
              "#7201a8"
             ],
             [
              0.3333333333333333,
              "#9c179e"
             ],
             [
              0.4444444444444444,
              "#bd3786"
             ],
             [
              0.5555555555555556,
              "#d8576b"
             ],
             [
              0.6666666666666666,
              "#ed7953"
             ],
             [
              0.7777777777777778,
              "#fb9f3a"
             ],
             [
              0.8888888888888888,
              "#fdca26"
             ],
             [
              1,
              "#f0f921"
             ]
            ],
            "type": "histogram2dcontour"
           }
          ],
          "mesh3d": [
           {
            "colorbar": {
             "outlinewidth": 0,
             "ticks": ""
            },
            "type": "mesh3d"
           }
          ],
          "parcoords": [
           {
            "line": {
             "colorbar": {
              "outlinewidth": 0,
              "ticks": ""
             }
            },
            "type": "parcoords"
           }
          ],
          "pie": [
           {
            "automargin": true,
            "type": "pie"
           }
          ],
          "scatter": [
           {
            "fillpattern": {
             "fillmode": "overlay",
             "size": 10,
             "solidity": 0.2
            },
            "type": "scatter"
           }
          ],
          "scatter3d": [
           {
            "line": {
             "colorbar": {
              "outlinewidth": 0,
              "ticks": ""
             }
            },
            "marker": {
             "colorbar": {
              "outlinewidth": 0,
              "ticks": ""
             }
            },
            "type": "scatter3d"
           }
          ],
          "scattercarpet": [
           {
            "marker": {
             "colorbar": {
              "outlinewidth": 0,
              "ticks": ""
             }
            },
            "type": "scattercarpet"
           }
          ],
          "scattergeo": [
           {
            "marker": {
             "colorbar": {
              "outlinewidth": 0,
              "ticks": ""
             }
            },
            "type": "scattergeo"
           }
          ],
          "scattergl": [
           {
            "marker": {
             "colorbar": {
              "outlinewidth": 0,
              "ticks": ""
             }
            },
            "type": "scattergl"
           }
          ],
          "scattermap": [
           {
            "marker": {
             "colorbar": {
              "outlinewidth": 0,
              "ticks": ""
             }
            },
            "type": "scattermap"
           }
          ],
          "scattermapbox": [
           {
            "marker": {
             "colorbar": {
              "outlinewidth": 0,
              "ticks": ""
             }
            },
            "type": "scattermapbox"
           }
          ],
          "scatterpolar": [
           {
            "marker": {
             "colorbar": {
              "outlinewidth": 0,
              "ticks": ""
             }
            },
            "type": "scatterpolar"
           }
          ],
          "scatterpolargl": [
           {
            "marker": {
             "colorbar": {
              "outlinewidth": 0,
              "ticks": ""
             }
            },
            "type": "scatterpolargl"
           }
          ],
          "scatterternary": [
           {
            "marker": {
             "colorbar": {
              "outlinewidth": 0,
              "ticks": ""
             }
            },
            "type": "scatterternary"
           }
          ],
          "surface": [
           {
            "colorbar": {
             "outlinewidth": 0,
             "ticks": ""
            },
            "colorscale": [
             [
              0,
              "#0d0887"
             ],
             [
              0.1111111111111111,
              "#46039f"
             ],
             [
              0.2222222222222222,
              "#7201a8"
             ],
             [
              0.3333333333333333,
              "#9c179e"
             ],
             [
              0.4444444444444444,
              "#bd3786"
             ],
             [
              0.5555555555555556,
              "#d8576b"
             ],
             [
              0.6666666666666666,
              "#ed7953"
             ],
             [
              0.7777777777777778,
              "#fb9f3a"
             ],
             [
              0.8888888888888888,
              "#fdca26"
             ],
             [
              1,
              "#f0f921"
             ]
            ],
            "type": "surface"
           }
          ],
          "table": [
           {
            "cells": {
             "fill": {
              "color": "#EBF0F8"
             },
             "line": {
              "color": "white"
             }
            },
            "header": {
             "fill": {
              "color": "#C8D4E3"
             },
             "line": {
              "color": "white"
             }
            },
            "type": "table"
           }
          ]
         },
         "layout": {
          "annotationdefaults": {
           "arrowcolor": "#2a3f5f",
           "arrowhead": 0,
           "arrowwidth": 1
          },
          "autotypenumbers": "strict",
          "coloraxis": {
           "colorbar": {
            "outlinewidth": 0,
            "ticks": ""
           }
          },
          "colorscale": {
           "diverging": [
            [
             0,
             "#8e0152"
            ],
            [
             0.1,
             "#c51b7d"
            ],
            [
             0.2,
             "#de77ae"
            ],
            [
             0.3,
             "#f1b6da"
            ],
            [
             0.4,
             "#fde0ef"
            ],
            [
             0.5,
             "#f7f7f7"
            ],
            [
             0.6,
             "#e6f5d0"
            ],
            [
             0.7,
             "#b8e186"
            ],
            [
             0.8,
             "#7fbc41"
            ],
            [
             0.9,
             "#4d9221"
            ],
            [
             1,
             "#276419"
            ]
           ],
           "sequential": [
            [
             0,
             "#0d0887"
            ],
            [
             0.1111111111111111,
             "#46039f"
            ],
            [
             0.2222222222222222,
             "#7201a8"
            ],
            [
             0.3333333333333333,
             "#9c179e"
            ],
            [
             0.4444444444444444,
             "#bd3786"
            ],
            [
             0.5555555555555556,
             "#d8576b"
            ],
            [
             0.6666666666666666,
             "#ed7953"
            ],
            [
             0.7777777777777778,
             "#fb9f3a"
            ],
            [
             0.8888888888888888,
             "#fdca26"
            ],
            [
             1,
             "#f0f921"
            ]
           ],
           "sequentialminus": [
            [
             0,
             "#0d0887"
            ],
            [
             0.1111111111111111,
             "#46039f"
            ],
            [
             0.2222222222222222,
             "#7201a8"
            ],
            [
             0.3333333333333333,
             "#9c179e"
            ],
            [
             0.4444444444444444,
             "#bd3786"
            ],
            [
             0.5555555555555556,
             "#d8576b"
            ],
            [
             0.6666666666666666,
             "#ed7953"
            ],
            [
             0.7777777777777778,
             "#fb9f3a"
            ],
            [
             0.8888888888888888,
             "#fdca26"
            ],
            [
             1,
             "#f0f921"
            ]
           ]
          },
          "colorway": [
           "#636efa",
           "#EF553B",
           "#00cc96",
           "#ab63fa",
           "#FFA15A",
           "#19d3f3",
           "#FF6692",
           "#B6E880",
           "#FF97FF",
           "#FECB52"
          ],
          "font": {
           "color": "#2a3f5f"
          },
          "geo": {
           "bgcolor": "white",
           "lakecolor": "white",
           "landcolor": "#E5ECF6",
           "showlakes": true,
           "showland": true,
           "subunitcolor": "white"
          },
          "hoverlabel": {
           "align": "left"
          },
          "hovermode": "closest",
          "mapbox": {
           "style": "light"
          },
          "paper_bgcolor": "white",
          "plot_bgcolor": "#E5ECF6",
          "polar": {
           "angularaxis": {
            "gridcolor": "white",
            "linecolor": "white",
            "ticks": ""
           },
           "bgcolor": "#E5ECF6",
           "radialaxis": {
            "gridcolor": "white",
            "linecolor": "white",
            "ticks": ""
           }
          },
          "scene": {
           "xaxis": {
            "backgroundcolor": "#E5ECF6",
            "gridcolor": "white",
            "gridwidth": 2,
            "linecolor": "white",
            "showbackground": true,
            "ticks": "",
            "zerolinecolor": "white"
           },
           "yaxis": {
            "backgroundcolor": "#E5ECF6",
            "gridcolor": "white",
            "gridwidth": 2,
            "linecolor": "white",
            "showbackground": true,
            "ticks": "",
            "zerolinecolor": "white"
           },
           "zaxis": {
            "backgroundcolor": "#E5ECF6",
            "gridcolor": "white",
            "gridwidth": 2,
            "linecolor": "white",
            "showbackground": true,
            "ticks": "",
            "zerolinecolor": "white"
           }
          },
          "shapedefaults": {
           "line": {
            "color": "#2a3f5f"
           }
          },
          "ternary": {
           "aaxis": {
            "gridcolor": "white",
            "linecolor": "white",
            "ticks": ""
           },
           "baxis": {
            "gridcolor": "white",
            "linecolor": "white",
            "ticks": ""
           },
           "bgcolor": "#E5ECF6",
           "caxis": {
            "gridcolor": "white",
            "linecolor": "white",
            "ticks": ""
           }
          },
          "title": {
           "x": 0.05
          },
          "xaxis": {
           "automargin": true,
           "gridcolor": "white",
           "linecolor": "white",
           "ticks": "",
           "title": {
            "standoff": 15
           },
           "zerolinecolor": "white",
           "zerolinewidth": 2
          },
          "yaxis": {
           "automargin": true,
           "gridcolor": "white",
           "linecolor": "white",
           "ticks": "",
           "title": {
            "standoff": 15
           },
           "zerolinecolor": "white",
           "zerolinewidth": 2
          }
         }
        },
        "title": {
         "text": "Random Points"
        }
       }
      }
     },
     "metadata": {},
     "output_type": "display_data"
    }
   ],
   "source": [
    "time_series = tp.geometry(points=points)\n",
    "\n",
    "time_series.plot(size=6)"
   ]
  },
  {
   "cell_type": "code",
   "execution_count": 7,
   "id": "38443931",
   "metadata": {},
   "outputs": [
    {
     "data": {
      "image/png": "[encoded data removed]",
      "text/plain": [
       "<Figure size 640x480 with 1 Axes>"
      ]
     },
     "metadata": {},
     "output_type": "display_data"
    }
   ],
   "source": [
    "analyzer = tp.HomologyAnalyzer()\n",
    "diagrams = analyzer.compute(points)\n",
    "analyzer.plot()            \n"
   ]
  }
 ],
 "metadata": {
  "kernelspec": {
   "display_name": ".venv",
   "language": "python",
   "name": "python3"
  },
  "language_info": {
   "codemirror_mode": {
    "name": "ipython",
    "version": 3
   },
   "file_extension": ".py",
   "mimetype": "text/x-python",
   "name": "python",
   "nbconvert_exporter": "python",
   "pygments_lexer": "ipython3",
   "version": "3.13.3"
  }
 },
 "nbformat": 4,
 "nbformat_minor": 5
}
